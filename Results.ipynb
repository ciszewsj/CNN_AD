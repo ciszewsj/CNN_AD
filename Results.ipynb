{
 "cells": [
  {
   "cell_type": "code",
   "execution_count": null,
   "id": "25140754-9098-4bc9-ad5c-4c6783d2abd2",
   "metadata": {},
   "outputs": [],
   "source": [
    "Result for CNN implementation using autodiff algorithm.\n",
    "\n",
    "Implementation is based on computation graph.\n",
    "\n",
    "Weights for different layer are created with kaiming normal funcion.\n",
    "It is also special functions for create kernels(for convolution) and funtion for randomize bias.\n",
    "    \n",
    "Results for easier version of model represented by:\n",
    "\n",
    "function build_graph(\n",
    "    x::Constant,\n",
    "    y::Constant,\n",
    "    cnn::CNN\n",
    ")\n",
    "    z0 = convolution(x, cnn.wk1) |> relu |> maxpool2d |> flatten\n",
    "    z1 = dense(z0, cnn.wd1, cnn.wb1) |> relu\n",
    "\tz2 = dense(z1, cnn.wd2 , cnn.wb2)\n",
    "\te = cross_entropy_loss(z2, y)\n",
    "\treturn topological_sort(e)\n",
    "end\n",
    "\n",
    "\n",
    "Results are presented for 3 different values of batch size and learn ratio."
   ]
  },
  {
   "cell_type": "code",
   "execution_count": 1,
   "id": "9e088683-1134-442c-9d10-dc39d43820a0",
   "metadata": {},
   "outputs": [
    {
     "name": "stdout",
     "output_type": "stream",
     "text": [
      "RUN CNN\n",
      "   INPUT SIZE  : (28, 28, 60000)\n",
      "   OUTPUT SIZE : (60000, 10)\n",
      "   BATCH SIZE  : 1\n",
      "   lr          : 0.0001\n",
      "   epoch       : 3\n",
      "Epoch 1 : 16.759772677358256\n",
      "   ACCURACY : 0.65735\n",
      "Epoch 2 : 6.889903568880371\n",
      "   ACCURACY : 0.8708166666666667\n",
      "Epoch 3 : 5.05410058029371\n",
      "   ACCURACY : 0.8964333333333333\n",
      "347.988259 seconds (4.47 G allocations: 819.192 GiB, 8.59% gc time, 4.21% compilation time)\n",
      "TRAIN DATA\n",
      "   ACCURACY : 0.9021666666666667\n",
      "TEST DATA\n",
      "   ACCURACY : 0.9064\n",
      "RUN CNN\n",
      "   INPUT SIZE  : (28, 28, 60000)\n",
      "   OUTPUT SIZE : (60000, 10)\n",
      "   BATCH SIZE  : 16\n",
      "   lr          : 0.01\n",
      "   epoch       : 3\n",
      "Epoch 1 : 8.983268589516726\n",
      "   ACCURACY : 0.8232333333333334\n",
      "Epoch 2 : 2.606796647490056\n",
      "   ACCURACY : 0.9022166666666667\n",
      "Epoch 3 : 1.4774328338672826\n",
      "   ACCURACY : 0.9119166666666667\n",
      "268.217680 seconds (4.46 G allocations: 601.791 GiB, 10.33% gc time)\n",
      "TRAIN DATA\n",
      "   ACCURACY : 0.9131666666666667\n",
      "TEST DATA\n",
      "   ACCURACY : 0.9008\n",
      "RUN CNN\n",
      "   INPUT SIZE  : (28, 28, 60000)\n",
      "   OUTPUT SIZE : (60000, 10)\n",
      "   BATCH SIZE  : 100\n",
      "   lr          : 0.01\n",
      "   epoch       : 3\n",
      "Epoch 1 : 16.919535106298543\n",
      "   ACCURACY : 0.7193\n",
      "Epoch 2 : 6.613097437000782\n",
      "   ACCURACY : 0.8761166666666667\n",
      "Epoch 3 : 4.64814236274732\n",
      "   ACCURACY : 0.8976666666666666\n",
      "386.207215 seconds (4.46 G allocations: 589.647 GiB, 9.42% gc time)\n",
      "TRAIN DATA\n",
      "   ACCURACY : 0.90255\n",
      "TEST DATA\n",
      "   ACCURACY : 0.8992\n"
     ]
    },
    {
     "data": {
      "text/plain": [
       "0"
      ]
     },
     "execution_count": 1,
     "metadata": {},
     "output_type": "execute_result"
    }
   ],
   "source": [
    "include(\"main1.jl\")"
   ]
  },
  {
   "cell_type": "code",
   "execution_count": null,
   "id": "7ab3b6dc-c83e-4fa3-a3ee-f4a298ca33b7",
   "metadata": {},
   "outputs": [],
   "source": [
    "Results are quite impressive.\n",
    "\n",
    "Accuracy of CNN for MINIST is around 90%."
   ]
  },
  {
   "cell_type": "code",
   "execution_count": null,
   "id": "68f8b1a1-e0d2-441e-9244-1cf22ec62730",
   "metadata": {},
   "outputs": [],
   "source": [
    "Similar to the previous example.\n",
    "The test was repeated for more complicated network:\n",
    "\n",
    "function build_graph(\n",
    "    x::Constant,\n",
    "    y::Constant,\n",
    "    cnn::CNN2\n",
    ")\n",
    "    z0 = convolution(x, cnn.c1) |> relu |> maxpool2d\n",
    "    z1 = convolution(z0, cnn.c2) |> relu |> maxpool2d |>flatten\n",
    "    z2 = dense(z1, cnn.wd1, cnn.wb1) |> relu\n",
    "\tz3 = dense(z2, cnn.wd2 , cnn.wb2)\n",
    "\te = cross_entropy_loss(z3, y)\n",
    "\treturn topological_sort(e)\n",
    "end\n",
    "\n",
    "\n",
    "This network is more complicated."
   ]
  },
  {
   "cell_type": "code",
   "execution_count": 3,
   "id": "4e59c42a-0758-4f20-9748-d9369b2eee72",
   "metadata": {},
   "outputs": [
    {
     "name": "stdout",
     "output_type": "stream",
     "text": [
      "RUN CNN\n",
      "   INPUT SIZE  : (28, 28, 60000)\n",
      "   OUTPUT SIZE : (60000, 10)\n",
      "   BATCH SIZE  : 1\n",
      "   lr          : 0.0001\n",
      "   epoch       : 3\n",
      "Epoch 1 : 14.533476767617861\n",
      "   ACCURACY : 0.7543166666666666\n",
      "Epoch 2 : 5.77222314732563\n",
      "   ACCURACY : 0.88985\n",
      "Epoch 3 : 4.175760894529656\n",
      "   ACCURACY : 0.9158\n",
      "491.907599 seconds (5.44 G allocations: 1.132 TiB, 10.27% gc time, 1.10% compilation time)\n",
      "TRAIN DATA\n",
      "   ACCURACY : 0.9085\n",
      "TEST DATA\n",
      "   ACCURACY : 0.9127\n",
      "RUN CNN\n",
      "   INPUT SIZE  : (28, 28, 60000)\n",
      "   OUTPUT SIZE : (60000, 10)\n",
      "   BATCH SIZE  : 16\n",
      "   lr          : 0.001\n",
      "   epoch       : 3\n",
      "Epoch 1 : 7.4337417143034505\n",
      "   ACCURACY : 0.5874333333333334\n",
      "Epoch 2 : 6.152403210860719\n",
      "   ACCURACY : 0.8342333333333334\n",
      "Epoch 3 : Inf\n",
      "   ACCURACY : 0.8801\n",
      "448.402113 seconds (5.43 G allocations: 1.044 TiB, 10.59% gc time)\n",
      "TRAIN DATA\n",
      "   ACCURACY : 0.8984666666666666\n",
      "TEST DATA\n",
      "   ACCURACY : 0.9054\n",
      "RUN CNN\n",
      "   INPUT SIZE  : (28, 28, 60000)\n",
      "   OUTPUT SIZE : (60000, 10)\n",
      "   BATCH SIZE  : 100\n",
      "   lr          : 0.01\n",
      "   epoch       : 3\n",
      "Epoch 1 : Inf\n",
      "   ACCURACY : 0.4918666666666667\n",
      "Epoch 2 : 7.654946161527735\n",
      "   ACCURACY : 0.8719\n",
      "Epoch 3 : 4.0508046236611275\n",
      "   ACCURACY : 0.8895833333333333\n",
      "435.358666 seconds (5.43 G allocations: 1.039 TiB, 10.42% gc time)\n",
      "TRAIN DATA\n",
      "   ACCURACY : 0.8846\n",
      "TEST DATA\n",
      "   ACCURACY : 0.8873\n"
     ]
    },
    {
     "data": {
      "text/plain": [
       "0"
      ]
     },
     "execution_count": 3,
     "metadata": {},
     "output_type": "execute_result"
    }
   ],
   "source": [
    "include(\"main2.jl\")"
   ]
  },
  {
   "cell_type": "code",
   "execution_count": null,
   "id": "6b4fde02-83b1-4133-9c17-e00b5d0bf843",
   "metadata": {},
   "outputs": [],
   "source": [
    "Results from this network are also quite good. Accuracy is around 88%."
   ]
  },
  {
   "cell_type": "code",
   "execution_count": null,
   "id": "3f1b6ad6-4dfb-425f-a69d-56a28c8f6d13",
   "metadata": {},
   "outputs": [],
   "source": [
    "This implementation is quite good. \n",
    "Now I should think about optimize my solution.\n",
    "\n",
    "TODO:\n",
    "    - Try to optimize ram usage (I think that it could be optimize 50%)\n",
    "    - Try to speed boost of algorithm\n",
    "\n",
    "Z wyrazami szcunku,\n",
    "311192 Ciszewski Jakub"
   ]
  }
 ],
 "metadata": {
  "kernelspec": {
   "display_name": "Julia 1.10.2",
   "language": "julia",
   "name": "julia-1.10"
  },
  "language_info": {
   "file_extension": ".jl",
   "mimetype": "application/julia",
   "name": "julia",
   "version": "1.10.2"
  }
 },
 "nbformat": 4,
 "nbformat_minor": 5
}
